{
 "cells": [
  {
   "cell_type": "code",
   "execution_count": 10,
   "id": "a4e84a57",
   "metadata": {},
   "outputs": [],
   "source": [
    "import pandas as pd"
   ]
  },
  {
   "cell_type": "code",
   "execution_count": 2,
   "id": "bd5f5294",
   "metadata": {},
   "outputs": [],
   "source": [
    "import numpy as np"
   ]
  },
  {
   "cell_type": "code",
   "execution_count": 3,
   "id": "a28bb135",
   "metadata": {},
   "outputs": [],
   "source": [
    "import requests"
   ]
  },
  {
   "cell_type": "code",
   "execution_count": 4,
   "id": "030b58a9",
   "metadata": {},
   "outputs": [],
   "source": [
    "Path_A = \"/Users/riddhirameshbhaidhameliya/Desktop/New.xlsx\""
   ]
  },
  {
   "cell_type": "code",
   "execution_count": 5,
   "id": "0f9b6c54",
   "metadata": {},
   "outputs": [],
   "source": [
    "image_list = pd.read_excel(Path_A)"
   ]
  },
  {
   "cell_type": "code",
   "execution_count": 6,
   "id": "4e1cabfe",
   "metadata": {},
   "outputs": [],
   "source": [
    "def save_file_from_link(url, save_path):\n",
    "    response = requests.get(url)\n",
    "    if response.status_code == 200:\n",
    "        with open(save_path, 'wb') as file:\n",
    "            file.write(response.content)\n",
    "        print('File saved successfully.')\n",
    "    else:\n",
    "        print('Failed to save the file.')"
   ]
  },
  {
   "cell_type": "code",
   "execution_count": 7,
   "id": "32be94ec",
   "metadata": {},
   "outputs": [],
   "source": [
    "#url = 'https://market-product-images-cdn.getirapi.com/product/00e3c954-8865-46be-b4bb-ea840d3cc621.webp'"
   ]
  },
  {
   "cell_type": "code",
   "execution_count": 11,
   "id": "becb6a0d",
   "metadata": {},
   "outputs": [],
   "source": [
    "save_path = '/Users/riddhirameshbhaidhameliya/Desktop/New/650dcee4cdc15246bf515457.jpg'"
   ]
  },
  {
   "cell_type": "code",
   "execution_count": 12,
   "id": "248b846b",
   "metadata": {},
   "outputs": [
    {
     "ename": "AttributeError",
     "evalue": "'DataFrame' object has no attribute 'iterrors'",
     "output_type": "error",
     "traceback": [
      "\u001b[0;31m---------------------------------------------------------------------------\u001b[0m",
      "\u001b[0;31mAttributeError\u001b[0m                            Traceback (most recent call last)",
      "Cell \u001b[0;32mIn[12], line 2\u001b[0m\n\u001b[1;32m      1\u001b[0m \u001b[38;5;66;03m#save_file_from_link(url, save_path)\u001b[39;00m\n\u001b[0;32m----> 2\u001b[0m \u001b[38;5;28;01mfor\u001b[39;00m ind, row \u001b[38;5;129;01min\u001b[39;00m image_list\u001b[38;5;241m.\u001b[39miterrors():\n\u001b[1;32m      3\u001b[0m     link \u001b[38;5;241m=\u001b[39m image_list\u001b[38;5;241m.\u001b[39mloc[ind, \u001b[38;5;124m'\u001b[39m\u001b[38;5;124mpicurl_en\u001b[39m\u001b[38;5;124m'\u001b[39m]\n\u001b[1;32m      4\u001b[0m     name \u001b[38;5;241m=\u001b[39m image_list\u001b[38;5;241m.\u001b[39mloc[ind, \u001b[38;5;124m'\u001b[39m\u001b[38;5;124mproduct_barcode\u001b[39m\u001b[38;5;124m'\u001b[39m]\n",
      "File \u001b[0;32m~/anaconda3/lib/python3.11/site-packages/pandas/core/generic.py:5902\u001b[0m, in \u001b[0;36mNDFrame.__getattr__\u001b[0;34m(self, name)\u001b[0m\n\u001b[1;32m   5895\u001b[0m \u001b[38;5;28;01mif\u001b[39;00m (\n\u001b[1;32m   5896\u001b[0m     name \u001b[38;5;129;01mnot\u001b[39;00m \u001b[38;5;129;01min\u001b[39;00m \u001b[38;5;28mself\u001b[39m\u001b[38;5;241m.\u001b[39m_internal_names_set\n\u001b[1;32m   5897\u001b[0m     \u001b[38;5;129;01mand\u001b[39;00m name \u001b[38;5;129;01mnot\u001b[39;00m \u001b[38;5;129;01min\u001b[39;00m \u001b[38;5;28mself\u001b[39m\u001b[38;5;241m.\u001b[39m_metadata\n\u001b[1;32m   5898\u001b[0m     \u001b[38;5;129;01mand\u001b[39;00m name \u001b[38;5;129;01mnot\u001b[39;00m \u001b[38;5;129;01min\u001b[39;00m \u001b[38;5;28mself\u001b[39m\u001b[38;5;241m.\u001b[39m_accessors\n\u001b[1;32m   5899\u001b[0m     \u001b[38;5;129;01mand\u001b[39;00m \u001b[38;5;28mself\u001b[39m\u001b[38;5;241m.\u001b[39m_info_axis\u001b[38;5;241m.\u001b[39m_can_hold_identifiers_and_holds_name(name)\n\u001b[1;32m   5900\u001b[0m ):\n\u001b[1;32m   5901\u001b[0m     \u001b[38;5;28;01mreturn\u001b[39;00m \u001b[38;5;28mself\u001b[39m[name]\n\u001b[0;32m-> 5902\u001b[0m \u001b[38;5;28;01mreturn\u001b[39;00m \u001b[38;5;28mobject\u001b[39m\u001b[38;5;241m.\u001b[39m\u001b[38;5;21m__getattribute__\u001b[39m(\u001b[38;5;28mself\u001b[39m, name)\n",
      "\u001b[0;31mAttributeError\u001b[0m: 'DataFrame' object has no attribute 'iterrors'"
     ]
    }
   ],
   "source": [
    "\n",
    "#save_file_from_link(url, save_path)\n",
    "for ind, row in image_list.iterrors():\n",
    "    link = image_list.loc[ind, 'picurl_en']\n",
    "    name = image_list.loc[ind, 'product_barcode']\n",
    "    save_path = '/Users/riddhirameshbhaidhameliya/Desktop/New/'+ str(name)+'.jpg'\n",
    "    save_file_from_link(link, save_path)"
   ]
  },
  {
   "cell_type": "code",
   "execution_count": null,
   "id": "c053a9f8",
   "metadata": {},
   "outputs": [],
   "source": []
  }
 ],
 "metadata": {
  "kernelspec": {
   "display_name": "Python 3 (ipykernel)",
   "language": "python",
   "name": "python3"
  },
  "language_info": {
   "codemirror_mode": {
    "name": "ipython",
    "version": 3
   },
   "file_extension": ".py",
   "mimetype": "text/x-python",
   "name": "python",
   "nbconvert_exporter": "python",
   "pygments_lexer": "ipython3",
   "version": "3.11.4"
  }
 },
 "nbformat": 4,
 "nbformat_minor": 5
}
